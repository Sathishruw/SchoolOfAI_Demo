{
 "cells": [
  {
   "cell_type": "code",
   "execution_count": 1,
   "metadata": {},
   "outputs": [],
   "source": [
    "import os\n",
    "import h2o\n",
    "from h2o.estimators.glm import H2OGeneralizedLinearEstimator\n",
    "from h2o.estimators.gbm import H2OGradientBoostingEstimator"
   ]
  },
  {
   "cell_type": "code",
   "execution_count": 2,
   "metadata": {
    "scrolled": true
   },
   "outputs": [
    {
     "name": "stdout",
     "output_type": "stream",
     "text": [
      "Checking whether there is an H2O instance running at http://localhost:54321. connected.\n"
     ]
    },
    {
     "data": {
      "text/html": [
       "<div style=\"overflow:auto\"><table style=\"width:50%\"><tr><td>H2O cluster uptime:</td>\n",
       "<td>2 mins 14 secs</td></tr>\n",
       "<tr><td>H2O cluster timezone:</td>\n",
       "<td>America/Los_Angeles</td></tr>\n",
       "<tr><td>H2O data parsing timezone:</td>\n",
       "<td>UTC</td></tr>\n",
       "<tr><td>H2O cluster version:</td>\n",
       "<td>3.20.0.8</td></tr>\n",
       "<tr><td>H2O cluster version age:</td>\n",
       "<td>5 days </td></tr>\n",
       "<tr><td>H2O cluster name:</td>\n",
       "<td>H2O_from_python_sathishr_xe35t5</td></tr>\n",
       "<tr><td>H2O cluster total nodes:</td>\n",
       "<td>1</td></tr>\n",
       "<tr><td>H2O cluster free memory:</td>\n",
       "<td>3.095 Gb</td></tr>\n",
       "<tr><td>H2O cluster total cores:</td>\n",
       "<td>8</td></tr>\n",
       "<tr><td>H2O cluster allowed cores:</td>\n",
       "<td>8</td></tr>\n",
       "<tr><td>H2O cluster status:</td>\n",
       "<td>locked, healthy</td></tr>\n",
       "<tr><td>H2O connection url:</td>\n",
       "<td>http://localhost:54321</td></tr>\n",
       "<tr><td>H2O connection proxy:</td>\n",
       "<td>None</td></tr>\n",
       "<tr><td>H2O internal security:</td>\n",
       "<td>False</td></tr>\n",
       "<tr><td>H2O API Extensions:</td>\n",
       "<td>XGBoost, Algos, AutoML, Core V3, Core V4</td></tr>\n",
       "<tr><td>Python version:</td>\n",
       "<td>3.6.6 final</td></tr></table></div>"
      ],
      "text/plain": [
       "--------------------------  ----------------------------------------\n",
       "H2O cluster uptime:         2 mins 14 secs\n",
       "H2O cluster timezone:       America/Los_Angeles\n",
       "H2O data parsing timezone:  UTC\n",
       "H2O cluster version:        3.20.0.8\n",
       "H2O cluster version age:    5 days\n",
       "H2O cluster name:           H2O_from_python_sathishr_xe35t5\n",
       "H2O cluster total nodes:    1\n",
       "H2O cluster free memory:    3.095 Gb\n",
       "H2O cluster total cores:    8\n",
       "H2O cluster allowed cores:  8\n",
       "H2O cluster status:         locked, healthy\n",
       "H2O connection url:         http://localhost:54321\n",
       "H2O connection proxy:\n",
       "H2O internal security:      False\n",
       "H2O API Extensions:         XGBoost, Algos, AutoML, Core V3, Core V4\n",
       "Python version:             3.6.6 final\n",
       "--------------------------  ----------------------------------------"
      ]
     },
     "metadata": {},
     "output_type": "display_data"
    }
   ],
   "source": [
    "# Connect to a cluster\n",
    "h2o.init()"
   ]
  },
  {
   "cell_type": "code",
   "execution_count": 13,
   "metadata": {},
   "outputs": [],
   "source": [
    "## Define data paths\n",
    "base_path = os.path.abspath(\"/home/sathishr/Documents/SchoolOfAI/School_of_AI_Demos/data/\")\n",
    "flights_path = base_path + \"/flights.csv\"\n",
    "weather_path = base_path + \"/weather.csv\""
   ]
  },
  {
   "cell_type": "code",
   "execution_count": 14,
   "metadata": {},
   "outputs": [
    {
     "name": "stdout",
     "output_type": "stream",
     "text": [
      "Parse progress: |█████████████████████████████████████████████████████████| 100%\n",
      "Parse progress: |█████████████████████████████████████████████████████████| 100%\n"
     ]
    }
   ],
   "source": [
    "## Ingest data\n",
    "flights_hex = h2o.import_file(path = flights_path, destination_frame = \"flights_hex\")\n",
    "weather_hex = h2o.import_file(path = weather_path, destination_frame = \"weather_hex\")"
   ]
  },
  {
   "cell_type": "code",
   "execution_count": 15,
   "metadata": {},
   "outputs": [
    {
     "data": {
      "text/html": [
       "<table>\n",
       "<thead>\n",
       "<tr><th style=\"text-align: right;\">  Year</th><th style=\"text-align: right;\">  Month</th><th style=\"text-align: right;\">  DayofMonth</th><th style=\"text-align: right;\">  DayOfWeek</th><th style=\"text-align: right;\">  DepTime</th><th style=\"text-align: right;\">  CRSDepTime</th><th style=\"text-align: right;\">  ArrTime</th><th style=\"text-align: right;\">  CRSArrTime</th><th>UniqueCarrier  </th><th style=\"text-align: right;\">  FlightNum</th><th style=\"text-align: right;\">  TailNum</th><th style=\"text-align: right;\">  ActualElapsedTime</th><th style=\"text-align: right;\">  CRSElapsedTime</th><th style=\"text-align: right;\">  AirTime</th><th style=\"text-align: right;\">  ArrDelay</th><th style=\"text-align: right;\">  DepDelay</th><th>Origin  </th><th>Dest  </th><th style=\"text-align: right;\">  Distance</th><th style=\"text-align: right;\">  TaxiIn</th><th style=\"text-align: right;\">  TaxiOut</th><th style=\"text-align: right;\">  Cancelled</th><th style=\"text-align: right;\">  CancellationCode</th><th style=\"text-align: right;\">  Diverted</th><th style=\"text-align: right;\">  CarrierDelay</th><th style=\"text-align: right;\">  WeatherDelay</th><th style=\"text-align: right;\">  NASDelay</th><th style=\"text-align: right;\">  SecurityDelay</th><th style=\"text-align: right;\">  LateAircraftDelay</th><th>IsArrDelayed  </th><th>IsDepDelayed  </th></tr>\n",
       "</thead>\n",
       "<tbody>\n",
       "<tr><td style=\"text-align: right;\">  1987</td><td style=\"text-align: right;\">     10</td><td style=\"text-align: right;\">           3</td><td style=\"text-align: right;\">          6</td><td style=\"text-align: right;\">      907</td><td style=\"text-align: right;\">         907</td><td style=\"text-align: right;\">     1511</td><td style=\"text-align: right;\">        1500</td><td>AA             </td><td style=\"text-align: right;\">         38</td><td style=\"text-align: right;\">      nan</td><td style=\"text-align: right;\">                244</td><td style=\"text-align: right;\">             233</td><td style=\"text-align: right;\">      nan</td><td style=\"text-align: right;\">        11</td><td style=\"text-align: right;\">         0</td><td>SAN     </td><td>ORD   </td><td style=\"text-align: right;\">      1723</td><td style=\"text-align: right;\">     nan</td><td style=\"text-align: right;\">      nan</td><td style=\"text-align: right;\">          0</td><td style=\"text-align: right;\">               nan</td><td style=\"text-align: right;\">         0</td><td style=\"text-align: right;\">             0</td><td style=\"text-align: right;\">             0</td><td style=\"text-align: right;\">         0</td><td style=\"text-align: right;\">              0</td><td style=\"text-align: right;\">                  0</td><td>YES           </td><td>NO            </td></tr>\n",
       "<tr><td style=\"text-align: right;\">  1987</td><td style=\"text-align: right;\">     10</td><td style=\"text-align: right;\">           6</td><td style=\"text-align: right;\">          2</td><td style=\"text-align: right;\">      907</td><td style=\"text-align: right;\">         907</td><td style=\"text-align: right;\">     1507</td><td style=\"text-align: right;\">        1500</td><td>AA             </td><td style=\"text-align: right;\">         38</td><td style=\"text-align: right;\">      nan</td><td style=\"text-align: right;\">                240</td><td style=\"text-align: right;\">             233</td><td style=\"text-align: right;\">      nan</td><td style=\"text-align: right;\">         7</td><td style=\"text-align: right;\">         0</td><td>SAN     </td><td>ORD   </td><td style=\"text-align: right;\">      1723</td><td style=\"text-align: right;\">     nan</td><td style=\"text-align: right;\">      nan</td><td style=\"text-align: right;\">          0</td><td style=\"text-align: right;\">               nan</td><td style=\"text-align: right;\">         0</td><td style=\"text-align: right;\">             0</td><td style=\"text-align: right;\">             0</td><td style=\"text-align: right;\">         0</td><td style=\"text-align: right;\">              0</td><td style=\"text-align: right;\">                  0</td><td>YES           </td><td>NO            </td></tr>\n",
       "<tr><td style=\"text-align: right;\">  1987</td><td style=\"text-align: right;\">     10</td><td style=\"text-align: right;\">           8</td><td style=\"text-align: right;\">          4</td><td style=\"text-align: right;\">      907</td><td style=\"text-align: right;\">         907</td><td style=\"text-align: right;\">     1451</td><td style=\"text-align: right;\">        1500</td><td>AA             </td><td style=\"text-align: right;\">         38</td><td style=\"text-align: right;\">      nan</td><td style=\"text-align: right;\">                224</td><td style=\"text-align: right;\">             233</td><td style=\"text-align: right;\">      nan</td><td style=\"text-align: right;\">        -9</td><td style=\"text-align: right;\">         0</td><td>SAN     </td><td>ORD   </td><td style=\"text-align: right;\">      1723</td><td style=\"text-align: right;\">     nan</td><td style=\"text-align: right;\">      nan</td><td style=\"text-align: right;\">          0</td><td style=\"text-align: right;\">               nan</td><td style=\"text-align: right;\">         0</td><td style=\"text-align: right;\">             0</td><td style=\"text-align: right;\">             0</td><td style=\"text-align: right;\">         0</td><td style=\"text-align: right;\">              0</td><td style=\"text-align: right;\">                  0</td><td>NO            </td><td>NO            </td></tr>\n",
       "<tr><td style=\"text-align: right;\">  1987</td><td style=\"text-align: right;\">     10</td><td style=\"text-align: right;\">           9</td><td style=\"text-align: right;\">          5</td><td style=\"text-align: right;\">      906</td><td style=\"text-align: right;\">         907</td><td style=\"text-align: right;\">     1449</td><td style=\"text-align: right;\">        1500</td><td>AA             </td><td style=\"text-align: right;\">         38</td><td style=\"text-align: right;\">      nan</td><td style=\"text-align: right;\">                223</td><td style=\"text-align: right;\">             233</td><td style=\"text-align: right;\">      nan</td><td style=\"text-align: right;\">       -11</td><td style=\"text-align: right;\">        -1</td><td>SAN     </td><td>ORD   </td><td style=\"text-align: right;\">      1723</td><td style=\"text-align: right;\">     nan</td><td style=\"text-align: right;\">      nan</td><td style=\"text-align: right;\">          0</td><td style=\"text-align: right;\">               nan</td><td style=\"text-align: right;\">         0</td><td style=\"text-align: right;\">             0</td><td style=\"text-align: right;\">             0</td><td style=\"text-align: right;\">         0</td><td style=\"text-align: right;\">              0</td><td style=\"text-align: right;\">                  0</td><td>NO            </td><td>NO            </td></tr>\n",
       "<tr><td style=\"text-align: right;\">  1987</td><td style=\"text-align: right;\">     10</td><td style=\"text-align: right;\">          10</td><td style=\"text-align: right;\">          6</td><td style=\"text-align: right;\">      906</td><td style=\"text-align: right;\">         907</td><td style=\"text-align: right;\">     1434</td><td style=\"text-align: right;\">        1500</td><td>AA             </td><td style=\"text-align: right;\">         38</td><td style=\"text-align: right;\">      nan</td><td style=\"text-align: right;\">                208</td><td style=\"text-align: right;\">             233</td><td style=\"text-align: right;\">      nan</td><td style=\"text-align: right;\">       -26</td><td style=\"text-align: right;\">        -1</td><td>SAN     </td><td>ORD   </td><td style=\"text-align: right;\">      1723</td><td style=\"text-align: right;\">     nan</td><td style=\"text-align: right;\">      nan</td><td style=\"text-align: right;\">          0</td><td style=\"text-align: right;\">               nan</td><td style=\"text-align: right;\">         0</td><td style=\"text-align: right;\">             0</td><td style=\"text-align: right;\">             0</td><td style=\"text-align: right;\">         0</td><td style=\"text-align: right;\">              0</td><td style=\"text-align: right;\">                  0</td><td>NO            </td><td>NO            </td></tr>\n",
       "<tr><td style=\"text-align: right;\">  1987</td><td style=\"text-align: right;\">     10</td><td style=\"text-align: right;\">          11</td><td style=\"text-align: right;\">          7</td><td style=\"text-align: right;\">      907</td><td style=\"text-align: right;\">         907</td><td style=\"text-align: right;\">     1440</td><td style=\"text-align: right;\">        1500</td><td>AA             </td><td style=\"text-align: right;\">         38</td><td style=\"text-align: right;\">      nan</td><td style=\"text-align: right;\">                213</td><td style=\"text-align: right;\">             233</td><td style=\"text-align: right;\">      nan</td><td style=\"text-align: right;\">       -20</td><td style=\"text-align: right;\">         0</td><td>SAN     </td><td>ORD   </td><td style=\"text-align: right;\">      1723</td><td style=\"text-align: right;\">     nan</td><td style=\"text-align: right;\">      nan</td><td style=\"text-align: right;\">          0</td><td style=\"text-align: right;\">               nan</td><td style=\"text-align: right;\">         0</td><td style=\"text-align: right;\">             0</td><td style=\"text-align: right;\">             0</td><td style=\"text-align: right;\">         0</td><td style=\"text-align: right;\">              0</td><td style=\"text-align: right;\">                  0</td><td>NO            </td><td>NO            </td></tr>\n",
       "<tr><td style=\"text-align: right;\">  1987</td><td style=\"text-align: right;\">     10</td><td style=\"text-align: right;\">          12</td><td style=\"text-align: right;\">          1</td><td style=\"text-align: right;\">      906</td><td style=\"text-align: right;\">         907</td><td style=\"text-align: right;\">     1456</td><td style=\"text-align: right;\">        1500</td><td>AA             </td><td style=\"text-align: right;\">         38</td><td style=\"text-align: right;\">      nan</td><td style=\"text-align: right;\">                230</td><td style=\"text-align: right;\">             233</td><td style=\"text-align: right;\">      nan</td><td style=\"text-align: right;\">        -4</td><td style=\"text-align: right;\">        -1</td><td>SAN     </td><td>ORD   </td><td style=\"text-align: right;\">      1723</td><td style=\"text-align: right;\">     nan</td><td style=\"text-align: right;\">      nan</td><td style=\"text-align: right;\">          0</td><td style=\"text-align: right;\">               nan</td><td style=\"text-align: right;\">         0</td><td style=\"text-align: right;\">             0</td><td style=\"text-align: right;\">             0</td><td style=\"text-align: right;\">         0</td><td style=\"text-align: right;\">              0</td><td style=\"text-align: right;\">                  0</td><td>NO            </td><td>NO            </td></tr>\n",
       "<tr><td style=\"text-align: right;\">  1987</td><td style=\"text-align: right;\">     10</td><td style=\"text-align: right;\">          14</td><td style=\"text-align: right;\">          3</td><td style=\"text-align: right;\">      906</td><td style=\"text-align: right;\">         907</td><td style=\"text-align: right;\">     1511</td><td style=\"text-align: right;\">        1500</td><td>AA             </td><td style=\"text-align: right;\">         38</td><td style=\"text-align: right;\">      nan</td><td style=\"text-align: right;\">                245</td><td style=\"text-align: right;\">             233</td><td style=\"text-align: right;\">      nan</td><td style=\"text-align: right;\">        11</td><td style=\"text-align: right;\">        -1</td><td>SAN     </td><td>ORD   </td><td style=\"text-align: right;\">      1723</td><td style=\"text-align: right;\">     nan</td><td style=\"text-align: right;\">      nan</td><td style=\"text-align: right;\">          0</td><td style=\"text-align: right;\">               nan</td><td style=\"text-align: right;\">         0</td><td style=\"text-align: right;\">             0</td><td style=\"text-align: right;\">             0</td><td style=\"text-align: right;\">         0</td><td style=\"text-align: right;\">              0</td><td style=\"text-align: right;\">                  0</td><td>YES           </td><td>NO            </td></tr>\n",
       "<tr><td style=\"text-align: right;\">  1987</td><td style=\"text-align: right;\">     10</td><td style=\"text-align: right;\">          15</td><td style=\"text-align: right;\">          4</td><td style=\"text-align: right;\">      906</td><td style=\"text-align: right;\">         907</td><td style=\"text-align: right;\">     1444</td><td style=\"text-align: right;\">        1500</td><td>AA             </td><td style=\"text-align: right;\">         38</td><td style=\"text-align: right;\">      nan</td><td style=\"text-align: right;\">                218</td><td style=\"text-align: right;\">             233</td><td style=\"text-align: right;\">      nan</td><td style=\"text-align: right;\">       -16</td><td style=\"text-align: right;\">        -1</td><td>SAN     </td><td>ORD   </td><td style=\"text-align: right;\">      1723</td><td style=\"text-align: right;\">     nan</td><td style=\"text-align: right;\">      nan</td><td style=\"text-align: right;\">          0</td><td style=\"text-align: right;\">               nan</td><td style=\"text-align: right;\">         0</td><td style=\"text-align: right;\">             0</td><td style=\"text-align: right;\">             0</td><td style=\"text-align: right;\">         0</td><td style=\"text-align: right;\">              0</td><td style=\"text-align: right;\">                  0</td><td>NO            </td><td>NO            </td></tr>\n",
       "<tr><td style=\"text-align: right;\">  1987</td><td style=\"text-align: right;\">     10</td><td style=\"text-align: right;\">          16</td><td style=\"text-align: right;\">          5</td><td style=\"text-align: right;\">      907</td><td style=\"text-align: right;\">         907</td><td style=\"text-align: right;\">     1451</td><td style=\"text-align: right;\">        1500</td><td>AA             </td><td style=\"text-align: right;\">         38</td><td style=\"text-align: right;\">      nan</td><td style=\"text-align: right;\">                224</td><td style=\"text-align: right;\">             233</td><td style=\"text-align: right;\">      nan</td><td style=\"text-align: right;\">        -9</td><td style=\"text-align: right;\">         0</td><td>SAN     </td><td>ORD   </td><td style=\"text-align: right;\">      1723</td><td style=\"text-align: right;\">     nan</td><td style=\"text-align: right;\">      nan</td><td style=\"text-align: right;\">          0</td><td style=\"text-align: right;\">               nan</td><td style=\"text-align: right;\">         0</td><td style=\"text-align: right;\">             0</td><td style=\"text-align: right;\">             0</td><td style=\"text-align: right;\">         0</td><td style=\"text-align: right;\">              0</td><td style=\"text-align: right;\">                  0</td><td>NO            </td><td>NO            </td></tr>\n",
       "</tbody>\n",
       "</table>"
      ]
     },
     "metadata": {},
     "output_type": "display_data"
    },
    {
     "data": {
      "text/html": [
       "<table>\n",
       "<thead>\n",
       "<tr><th>ICAO  </th><th style=\"text-align: right;\">  MaxTempF</th><th style=\"text-align: right;\">  MeanTempF</th><th style=\"text-align: right;\">  MinTempF</th><th style=\"text-align: right;\">  MaxDewPointF</th><th style=\"text-align: right;\">  MeanDewPointF</th><th style=\"text-align: right;\">  Min DewpointF</th><th style=\"text-align: right;\">  MaxHumidity</th><th style=\"text-align: right;\">  MeanHumidity</th><th style=\"text-align: right;\">  MinHumidity</th><th style=\"text-align: right;\">  MaxSeaLevelPressureIn</th><th style=\"text-align: right;\">  MeanSeaLevelPressureIn</th><th style=\"text-align: right;\">  MinSeaLevelPressureIn</th><th style=\"text-align: right;\">  MaxVisibilityMiles</th><th style=\"text-align: right;\">  MeanVisibilityMiles</th><th style=\"text-align: right;\">  MinVisibilityMiles</th><th style=\"text-align: right;\">  MaxWindSpeedMPH</th><th style=\"text-align: right;\">  MeanWindSpeedMPH</th><th style=\"text-align: right;\">  MaxGustSpeedMPH</th><th style=\"text-align: right;\">  PrecipitationIn</th><th style=\"text-align: right;\">  CloudCover</th><th>Events  </th><th style=\"text-align: right;\">  WindDirDegrees</th><th>Dest  </th><th style=\"text-align: right;\">  Year</th><th style=\"text-align: right;\">  Month</th><th style=\"text-align: right;\">  DayofMonth</th></tr>\n",
       "</thead>\n",
       "<tbody>\n",
       "<tr><td>KORD  </td><td style=\"text-align: right;\">        33</td><td style=\"text-align: right;\">         32</td><td style=\"text-align: right;\">        30</td><td style=\"text-align: right;\">            32</td><td style=\"text-align: right;\">             29</td><td style=\"text-align: right;\">             24</td><td style=\"text-align: right;\">           96</td><td style=\"text-align: right;\">            90</td><td style=\"text-align: right;\">           79</td><td style=\"text-align: right;\">                  30.14</td><td style=\"text-align: right;\">                   30.03</td><td style=\"text-align: right;\">                  29.95</td><td style=\"text-align: right;\">                  10</td><td style=\"text-align: right;\">                    3</td><td style=\"text-align: right;\">                   1</td><td style=\"text-align: right;\">                9</td><td style=\"text-align: right;\">                 5</td><td style=\"text-align: right;\">              nan</td><td style=\"text-align: right;\">             0.16</td><td style=\"text-align: right;\">           8</td><td>Fog-Snow</td><td style=\"text-align: right;\">             308</td><td>ORD   </td><td style=\"text-align: right;\">  1987</td><td style=\"text-align: right;\">      1</td><td style=\"text-align: right;\">           1</td></tr>\n",
       "<tr><td>KORD  </td><td style=\"text-align: right;\">        36</td><td style=\"text-align: right;\">         33</td><td style=\"text-align: right;\">        30</td><td style=\"text-align: right;\">            33</td><td style=\"text-align: right;\">             31</td><td style=\"text-align: right;\">             29</td><td style=\"text-align: right;\">          100</td><td style=\"text-align: right;\">            90</td><td style=\"text-align: right;\">           82</td><td style=\"text-align: right;\">                  30.18</td><td style=\"text-align: right;\">                   30.02</td><td style=\"text-align: right;\">                  29.94</td><td style=\"text-align: right;\">                   8</td><td style=\"text-align: right;\">                    6</td><td style=\"text-align: right;\">                   2</td><td style=\"text-align: right;\">               10</td><td style=\"text-align: right;\">                 7</td><td style=\"text-align: right;\">              nan</td><td style=\"text-align: right;\">             0.01</td><td style=\"text-align: right;\">           7</td><td>Fog-Snow</td><td style=\"text-align: right;\">             323</td><td>ORD   </td><td style=\"text-align: right;\">  1987</td><td style=\"text-align: right;\">      1</td><td style=\"text-align: right;\">           2</td></tr>\n",
       "<tr><td>KORD  </td><td style=\"text-align: right;\">        39</td><td style=\"text-align: right;\">         33</td><td style=\"text-align: right;\">        27</td><td style=\"text-align: right;\">            30</td><td style=\"text-align: right;\">             29</td><td style=\"text-align: right;\">             26</td><td style=\"text-align: right;\">          100</td><td style=\"text-align: right;\">            87</td><td style=\"text-align: right;\">           65</td><td style=\"text-align: right;\">                  30.34</td><td style=\"text-align: right;\">                   30.28</td><td style=\"text-align: right;\">                  30.19</td><td style=\"text-align: right;\">                   9</td><td style=\"text-align: right;\">                    7</td><td style=\"text-align: right;\">                   5</td><td style=\"text-align: right;\">               12</td><td style=\"text-align: right;\">                 5</td><td style=\"text-align: right;\">              nan</td><td style=\"text-align: right;\">             0   </td><td style=\"text-align: right;\">           7</td><td>Fog     </td><td style=\"text-align: right;\">             273</td><td>ORD   </td><td style=\"text-align: right;\">  1987</td><td style=\"text-align: right;\">      1</td><td style=\"text-align: right;\">           3</td></tr>\n",
       "<tr><td>KORD  </td><td style=\"text-align: right;\">        37</td><td style=\"text-align: right;\">         28</td><td style=\"text-align: right;\">        19</td><td style=\"text-align: right;\">            31</td><td style=\"text-align: right;\">             26</td><td style=\"text-align: right;\">             19</td><td style=\"text-align: right;\">          100</td><td style=\"text-align: right;\">            89</td><td style=\"text-align: right;\">           65</td><td style=\"text-align: right;\">                  30.42</td><td style=\"text-align: right;\">                   30.38</td><td style=\"text-align: right;\">                  30.32</td><td style=\"text-align: right;\">                   8</td><td style=\"text-align: right;\">                    4</td><td style=\"text-align: right;\">                   0</td><td style=\"text-align: right;\">                8</td><td style=\"text-align: right;\">                 4</td><td style=\"text-align: right;\">              nan</td><td style=\"text-align: right;\">             0   </td><td style=\"text-align: right;\">           4</td><td>Fog     </td><td style=\"text-align: right;\">             332</td><td>ORD   </td><td style=\"text-align: right;\">  1987</td><td style=\"text-align: right;\">      1</td><td style=\"text-align: right;\">           4</td></tr>\n",
       "<tr><td>KORD  </td><td style=\"text-align: right;\">        39</td><td style=\"text-align: right;\">         32</td><td style=\"text-align: right;\">        25</td><td style=\"text-align: right;\">            30</td><td style=\"text-align: right;\">             27</td><td style=\"text-align: right;\">             24</td><td style=\"text-align: right;\">          100</td><td style=\"text-align: right;\">            81</td><td style=\"text-align: right;\">           62</td><td style=\"text-align: right;\">                  30.39</td><td style=\"text-align: right;\">                   30.27</td><td style=\"text-align: right;\">                  30.07</td><td style=\"text-align: right;\">                  10</td><td style=\"text-align: right;\">                    8</td><td style=\"text-align: right;\">                   3</td><td style=\"text-align: right;\">               13</td><td style=\"text-align: right;\">                 7</td><td style=\"text-align: right;\">              nan</td><td style=\"text-align: right;\">             0   </td><td style=\"text-align: right;\">           5</td><td>Fog     </td><td style=\"text-align: right;\">             180</td><td>ORD   </td><td style=\"text-align: right;\">  1987</td><td style=\"text-align: right;\">      1</td><td style=\"text-align: right;\">           5</td></tr>\n",
       "<tr><td>KORD  </td><td style=\"text-align: right;\">        46</td><td style=\"text-align: right;\">         40</td><td style=\"text-align: right;\">        34</td><td style=\"text-align: right;\">            38</td><td style=\"text-align: right;\">             31</td><td style=\"text-align: right;\">             26</td><td style=\"text-align: right;\">           86</td><td style=\"text-align: right;\">            73</td><td style=\"text-align: right;\">           62</td><td style=\"text-align: right;\">                  30.04</td><td style=\"text-align: right;\">                   29.8 </td><td style=\"text-align: right;\">                  29.61</td><td style=\"text-align: right;\">                  15</td><td style=\"text-align: right;\">                   10</td><td style=\"text-align: right;\">                  10</td><td style=\"text-align: right;\">               23</td><td style=\"text-align: right;\">                14</td><td style=\"text-align: right;\">              nan</td><td style=\"text-align: right;\">             0   </td><td style=\"text-align: right;\">           7</td><td>Rain    </td><td style=\"text-align: right;\">             226</td><td>ORD   </td><td style=\"text-align: right;\">  1987</td><td style=\"text-align: right;\">      1</td><td style=\"text-align: right;\">           6</td></tr>\n",
       "<tr><td>KORD  </td><td style=\"text-align: right;\">        37</td><td style=\"text-align: right;\">         35</td><td style=\"text-align: right;\">        32</td><td style=\"text-align: right;\">            31</td><td style=\"text-align: right;\">             28</td><td style=\"text-align: right;\">             26</td><td style=\"text-align: right;\">           82</td><td style=\"text-align: right;\">            75</td><td style=\"text-align: right;\">           70</td><td style=\"text-align: right;\">                  30.27</td><td style=\"text-align: right;\">                   30.16</td><td style=\"text-align: right;\">                  29.93</td><td style=\"text-align: right;\">                  15</td><td style=\"text-align: right;\">                   11</td><td style=\"text-align: right;\">                   7</td><td style=\"text-align: right;\">               14</td><td style=\"text-align: right;\">                10</td><td style=\"text-align: right;\">              nan</td><td style=\"text-align: right;\">             0   </td><td style=\"text-align: right;\">           8</td><td>        </td><td style=\"text-align: right;\">             309</td><td>ORD   </td><td style=\"text-align: right;\">  1987</td><td style=\"text-align: right;\">      1</td><td style=\"text-align: right;\">           7</td></tr>\n",
       "<tr><td>KORD  </td><td style=\"text-align: right;\">        32</td><td style=\"text-align: right;\">         29</td><td style=\"text-align: right;\">        26</td><td style=\"text-align: right;\">            27</td><td style=\"text-align: right;\">             22</td><td style=\"text-align: right;\">             18</td><td style=\"text-align: right;\">           85</td><td style=\"text-align: right;\">            74</td><td style=\"text-align: right;\">           61</td><td style=\"text-align: right;\">                  30.27</td><td style=\"text-align: right;\">                   30.22</td><td style=\"text-align: right;\">                  30.16</td><td style=\"text-align: right;\">                  15</td><td style=\"text-align: right;\">                   12</td><td style=\"text-align: right;\">                   7</td><td style=\"text-align: right;\">               17</td><td style=\"text-align: right;\">                11</td><td style=\"text-align: right;\">              nan</td><td style=\"text-align: right;\">             0   </td><td style=\"text-align: right;\">           7</td><td>Snow    </td><td style=\"text-align: right;\">             268</td><td>ORD   </td><td style=\"text-align: right;\">  1987</td><td style=\"text-align: right;\">      1</td><td style=\"text-align: right;\">           8</td></tr>\n",
       "<tr><td>KORD  </td><td style=\"text-align: right;\">        30</td><td style=\"text-align: right;\">         26</td><td style=\"text-align: right;\">        21</td><td style=\"text-align: right;\">            30</td><td style=\"text-align: right;\">             25</td><td style=\"text-align: right;\">             19</td><td style=\"text-align: right;\">          100</td><td style=\"text-align: right;\">            89</td><td style=\"text-align: right;\">           82</td><td style=\"text-align: right;\">                  30.14</td><td style=\"text-align: right;\">                   29.9 </td><td style=\"text-align: right;\">                  29.61</td><td style=\"text-align: right;\">                  15</td><td style=\"text-align: right;\">                    6</td><td style=\"text-align: right;\">                   0</td><td style=\"text-align: right;\">               16</td><td style=\"text-align: right;\">                 8</td><td style=\"text-align: right;\">              nan</td><td style=\"text-align: right;\">             0.46</td><td style=\"text-align: right;\">           6</td><td>Fog-Snow</td><td style=\"text-align: right;\">             147</td><td>ORD   </td><td style=\"text-align: right;\">  1987</td><td style=\"text-align: right;\">      1</td><td style=\"text-align: right;\">           9</td></tr>\n",
       "<tr><td>KORD  </td><td style=\"text-align: right;\">        34</td><td style=\"text-align: right;\">         32</td><td style=\"text-align: right;\">        30</td><td style=\"text-align: right;\">            32</td><td style=\"text-align: right;\">             29</td><td style=\"text-align: right;\">             25</td><td style=\"text-align: right;\">          100</td><td style=\"text-align: right;\">            89</td><td style=\"text-align: right;\">           75</td><td style=\"text-align: right;\">                  29.91</td><td style=\"text-align: right;\">                   29.72</td><td style=\"text-align: right;\">                  29.57</td><td style=\"text-align: right;\">                   9</td><td style=\"text-align: right;\">                    4</td><td style=\"text-align: right;\">                   2</td><td style=\"text-align: right;\">               20</td><td style=\"text-align: right;\">                12</td><td style=\"text-align: right;\">               26</td><td style=\"text-align: right;\">             0.15</td><td style=\"text-align: right;\">           8</td><td>Fog-Snow</td><td style=\"text-align: right;\">             339</td><td>ORD   </td><td style=\"text-align: right;\">  1987</td><td style=\"text-align: right;\">      1</td><td style=\"text-align: right;\">          10</td></tr>\n",
       "</tbody>\n",
       "</table>"
      ]
     },
     "metadata": {},
     "output_type": "display_data"
    }
   ],
   "source": [
    "## Summary of the flights and weather dataset\n",
    "flights_hex.show()\n",
    "weather_hex.show()"
   ]
  },
  {
   "cell_type": "code",
   "execution_count": 16,
   "metadata": {
    "scrolled": true
   },
   "outputs": [
    {
     "data": {
      "text/html": [
       "<div>\n",
       "<style scoped>\n",
       "    .dataframe tbody tr th:only-of-type {\n",
       "        vertical-align: middle;\n",
       "    }\n",
       "\n",
       "    .dataframe tbody tr th {\n",
       "        vertical-align: top;\n",
       "    }\n",
       "\n",
       "    .dataframe thead th {\n",
       "        text-align: right;\n",
       "    }\n",
       "</style>\n",
       "<table border=\"1\" class=\"dataframe\">\n",
       "  <thead>\n",
       "    <tr style=\"text-align: right;\">\n",
       "      <th></th>\n",
       "      <th>Year</th>\n",
       "      <th>nrow</th>\n",
       "      <th>sum_IsArrDelayedNumeric</th>\n",
       "      <th>sum_IsWeatherDelayedNumeric</th>\n",
       "    </tr>\n",
       "  </thead>\n",
       "  <tbody>\n",
       "    <tr>\n",
       "      <th>0</th>\n",
       "      <td>1987</td>\n",
       "      <td>38041</td>\n",
       "      <td>15216</td>\n",
       "      <td>0</td>\n",
       "    </tr>\n",
       "    <tr>\n",
       "      <th>1</th>\n",
       "      <td>1988</td>\n",
       "      <td>147295</td>\n",
       "      <td>56686</td>\n",
       "      <td>0</td>\n",
       "    </tr>\n",
       "    <tr>\n",
       "      <th>2</th>\n",
       "      <td>1989</td>\n",
       "      <td>133278</td>\n",
       "      <td>59160</td>\n",
       "      <td>0</td>\n",
       "    </tr>\n",
       "    <tr>\n",
       "      <th>3</th>\n",
       "      <td>1990</td>\n",
       "      <td>154285</td>\n",
       "      <td>56392</td>\n",
       "      <td>0</td>\n",
       "    </tr>\n",
       "    <tr>\n",
       "      <th>4</th>\n",
       "      <td>1991</td>\n",
       "      <td>157913</td>\n",
       "      <td>50490</td>\n",
       "      <td>0</td>\n",
       "    </tr>\n",
       "    <tr>\n",
       "      <th>5</th>\n",
       "      <td>1992</td>\n",
       "      <td>163863</td>\n",
       "      <td>57940</td>\n",
       "      <td>0</td>\n",
       "    </tr>\n",
       "    <tr>\n",
       "      <th>6</th>\n",
       "      <td>1993</td>\n",
       "      <td>170640</td>\n",
       "      <td>61131</td>\n",
       "      <td>0</td>\n",
       "    </tr>\n",
       "    <tr>\n",
       "      <th>7</th>\n",
       "      <td>1994</td>\n",
       "      <td>163451</td>\n",
       "      <td>47078</td>\n",
       "      <td>0</td>\n",
       "    </tr>\n",
       "    <tr>\n",
       "      <th>8</th>\n",
       "      <td>1995</td>\n",
       "      <td>150482</td>\n",
       "      <td>44184</td>\n",
       "      <td>0</td>\n",
       "    </tr>\n",
       "    <tr>\n",
       "      <th>9</th>\n",
       "      <td>1996</td>\n",
       "      <td>144064</td>\n",
       "      <td>45343</td>\n",
       "      <td>0</td>\n",
       "    </tr>\n",
       "    <tr>\n",
       "      <th>10</th>\n",
       "      <td>1997</td>\n",
       "      <td>172330</td>\n",
       "      <td>54852</td>\n",
       "      <td>0</td>\n",
       "    </tr>\n",
       "    <tr>\n",
       "      <th>11</th>\n",
       "      <td>1998</td>\n",
       "      <td>171777</td>\n",
       "      <td>53161</td>\n",
       "      <td>0</td>\n",
       "    </tr>\n",
       "    <tr>\n",
       "      <th>12</th>\n",
       "      <td>1999</td>\n",
       "      <td>177946</td>\n",
       "      <td>62940</td>\n",
       "      <td>0</td>\n",
       "    </tr>\n",
       "    <tr>\n",
       "      <th>13</th>\n",
       "      <td>2000</td>\n",
       "      <td>148203</td>\n",
       "      <td>51200</td>\n",
       "      <td>0</td>\n",
       "    </tr>\n",
       "    <tr>\n",
       "      <th>14</th>\n",
       "      <td>2001</td>\n",
       "      <td>195317</td>\n",
       "      <td>46910</td>\n",
       "      <td>0</td>\n",
       "    </tr>\n",
       "    <tr>\n",
       "      <th>15</th>\n",
       "      <td>2002</td>\n",
       "      <td>225411</td>\n",
       "      <td>47624</td>\n",
       "      <td>0</td>\n",
       "    </tr>\n",
       "    <tr>\n",
       "      <th>16</th>\n",
       "      <td>2003</td>\n",
       "      <td>256611</td>\n",
       "      <td>67040</td>\n",
       "      <td>2211</td>\n",
       "    </tr>\n",
       "    <tr>\n",
       "      <th>17</th>\n",
       "      <td>2004</td>\n",
       "      <td>240167</td>\n",
       "      <td>68614</td>\n",
       "      <td>4097</td>\n",
       "    </tr>\n",
       "    <tr>\n",
       "      <th>18</th>\n",
       "      <td>2005</td>\n",
       "      <td>215470</td>\n",
       "      <td>51768</td>\n",
       "      <td>3949</td>\n",
       "    </tr>\n",
       "    <tr>\n",
       "      <th>19</th>\n",
       "      <td>2006</td>\n",
       "      <td>214954</td>\n",
       "      <td>56532</td>\n",
       "      <td>4493</td>\n",
       "    </tr>\n",
       "    <tr>\n",
       "      <th>20</th>\n",
       "      <td>2007</td>\n",
       "      <td>207832</td>\n",
       "      <td>55758</td>\n",
       "      <td>5146</td>\n",
       "    </tr>\n",
       "    <tr>\n",
       "      <th>21</th>\n",
       "      <td>2008</td>\n",
       "      <td>203109</td>\n",
       "      <td>47603</td>\n",
       "      <td>4426</td>\n",
       "    </tr>\n",
       "    <tr>\n",
       "      <th>22</th>\n",
       "      <td>2009</td>\n",
       "      <td>217280</td>\n",
       "      <td>40679</td>\n",
       "      <td>3184</td>\n",
       "    </tr>\n",
       "    <tr>\n",
       "      <th>23</th>\n",
       "      <td>2010</td>\n",
       "      <td>208201</td>\n",
       "      <td>38788</td>\n",
       "      <td>3130</td>\n",
       "    </tr>\n",
       "    <tr>\n",
       "      <th>24</th>\n",
       "      <td>2011</td>\n",
       "      <td>199529</td>\n",
       "      <td>36010</td>\n",
       "      <td>3076</td>\n",
       "    </tr>\n",
       "    <tr>\n",
       "      <th>25</th>\n",
       "      <td>2012</td>\n",
       "      <td>202174</td>\n",
       "      <td>29976</td>\n",
       "      <td>3085</td>\n",
       "    </tr>\n",
       "    <tr>\n",
       "      <th>26</th>\n",
       "      <td>2013</td>\n",
       "      <td>101281</td>\n",
       "      <td>18827</td>\n",
       "      <td>2132</td>\n",
       "    </tr>\n",
       "  </tbody>\n",
       "</table>\n",
       "</div>"
      ],
      "text/plain": [
       "    Year    nrow  sum_IsArrDelayedNumeric  sum_IsWeatherDelayedNumeric\n",
       "0   1987   38041                    15216                            0\n",
       "1   1988  147295                    56686                            0\n",
       "2   1989  133278                    59160                            0\n",
       "3   1990  154285                    56392                            0\n",
       "4   1991  157913                    50490                            0\n",
       "5   1992  163863                    57940                            0\n",
       "6   1993  170640                    61131                            0\n",
       "7   1994  163451                    47078                            0\n",
       "8   1995  150482                    44184                            0\n",
       "9   1996  144064                    45343                            0\n",
       "10  1997  172330                    54852                            0\n",
       "11  1998  171777                    53161                            0\n",
       "12  1999  177946                    62940                            0\n",
       "13  2000  148203                    51200                            0\n",
       "14  2001  195317                    46910                            0\n",
       "15  2002  225411                    47624                            0\n",
       "16  2003  256611                    67040                         2211\n",
       "17  2004  240167                    68614                         4097\n",
       "18  2005  215470                    51768                         3949\n",
       "19  2006  214954                    56532                         4493\n",
       "20  2007  207832                    55758                         5146\n",
       "21  2008  203109                    47603                         4426\n",
       "22  2009  217280                    40679                         3184\n",
       "23  2010  208201                    38788                         3130\n",
       "24  2011  199529                    36010                         3076\n",
       "25  2012  202174                    29976                         3085\n",
       "26  2013  101281                    18827                         2132"
      ]
     },
     "execution_count": 16,
     "metadata": {},
     "output_type": "execute_result"
    }
   ],
   "source": [
    "# Group flights by Year\n",
    "flights_hex[\"IsArrDelayedNumeric\"] = (flights_hex[\"IsArrDelayed\"] == \"YES\").ifelse(1,0)\n",
    "flights_hex[\"IsWeatherDelayedNumeric\"] = (flights_hex[\"WeatherDelay\"] > 0).ifelse(1,0)\n",
    "flights_group = flights_hex.group_by(\"Year\")\n",
    "flights_count = flights_group.count().sum(\"IsArrDelayedNumeric\").sum(\"IsWeatherDelayedNumeric\").frame\n",
    "flights_count.as_data_frame()"
   ]
  },
  {
   "cell_type": "code",
   "execution_count": 17,
   "metadata": {},
   "outputs": [],
   "source": [
    "## Filter flights before 2003\n",
    "flights_hex = flights_hex[ flights_hex[ \"Year\"] >= 2003]\n",
    "## Filter flights that is delayed but not delayed by weather\n",
    "flights_hex = flights_hex[ (flights_hex[\"IsArrDelayed\"] == \"NO\") | (flights_hex[\"WeatherDelay\"] > 0)]"
   ]
  },
  {
   "cell_type": "code",
   "execution_count": 18,
   "metadata": {},
   "outputs": [
    {
     "data": {
      "text/html": [
       "<table>\n",
       "<thead>\n",
       "<tr><th style=\"text-align: right;\">  CRSArrTime</th></tr>\n",
       "</thead>\n",
       "<tbody>\n",
       "<tr><td style=\"text-align: right;\">        1351</td></tr>\n",
       "<tr><td style=\"text-align: right;\">        1351</td></tr>\n",
       "<tr><td style=\"text-align: right;\">        1351</td></tr>\n",
       "<tr><td style=\"text-align: right;\">        1351</td></tr>\n",
       "<tr><td style=\"text-align: right;\">        1351</td></tr>\n",
       "<tr><td style=\"text-align: right;\">        1351</td></tr>\n",
       "<tr><td style=\"text-align: right;\">        1351</td></tr>\n",
       "<tr><td style=\"text-align: right;\">        1351</td></tr>\n",
       "<tr><td style=\"text-align: right;\">        1351</td></tr>\n",
       "<tr><td style=\"text-align: right;\">        1351</td></tr>\n",
       "</tbody>\n",
       "</table>"
      ]
     },
     "metadata": {},
     "output_type": "display_data"
    },
    {
     "data": {
      "text/plain": []
     },
     "execution_count": 18,
     "metadata": {},
     "output_type": "execute_result"
    }
   ],
   "source": [
    "flights_hex[\"CRSArrTime\"]"
   ]
  },
  {
   "cell_type": "code",
   "execution_count": 19,
   "metadata": {},
   "outputs": [],
   "source": [
    "## Parameter Creation\n",
    "hour1 = flights_hex[\"CRSArrTime\"] // 100\n",
    "mins1 = flights_hex[\"CRSArrTime\"] % 100\n",
    "arrTime = hour1*60+mins1\n",
    "hour2 = flights_hex[\"CRSDepTime\"] // 100\n",
    "mins2 = flights_hex[\"CRSDepTime\"] % 100\n",
    "depTime = hour2*60+mins2\n",
    "\n",
    "travelTime = (arrTime - depTime > 0).ifelse(arrTime - depTime, 0)\n",
    "flights_hex[ \"TravelTime\"]  = travelTime"
   ]
  },
  {
   "cell_type": "code",
   "execution_count": 20,
   "metadata": {},
   "outputs": [
    {
     "data": {
      "text/html": [
       "<table>\n",
       "<thead>\n",
       "<tr><th style=\"text-align: right;\">  TravelTime</th></tr>\n",
       "</thead>\n",
       "<tbody>\n",
       "<tr><td style=\"text-align: right;\">         360</td></tr>\n",
       "<tr><td style=\"text-align: right;\">         360</td></tr>\n",
       "<tr><td style=\"text-align: right;\">         360</td></tr>\n",
       "<tr><td style=\"text-align: right;\">         360</td></tr>\n",
       "<tr><td style=\"text-align: right;\">         360</td></tr>\n",
       "<tr><td style=\"text-align: right;\">         360</td></tr>\n",
       "<tr><td style=\"text-align: right;\">         360</td></tr>\n",
       "<tr><td style=\"text-align: right;\">         360</td></tr>\n",
       "<tr><td style=\"text-align: right;\">         360</td></tr>\n",
       "<tr><td style=\"text-align: right;\">         360</td></tr>\n",
       "</tbody>\n",
       "</table>"
      ]
     },
     "metadata": {},
     "output_type": "display_data"
    },
    {
     "data": {
      "text/plain": []
     },
     "execution_count": 20,
     "metadata": {},
     "output_type": "execute_result"
    }
   ],
   "source": [
    "flights_hex[ \"TravelTime\"]"
   ]
  },
  {
   "cell_type": "code",
   "execution_count": 21,
   "metadata": {},
   "outputs": [],
   "source": [
    "# Set predictor and response variables\n",
    "myY = \"IsArrDelayed\"\n",
    "myX = [\"Year\", \"Month\", \"DayofMonth\", \"DayOfWeek\", \"UniqueCarrier\", \"Origin\", \"TravelTime\"]"
   ]
  },
  {
   "cell_type": "code",
   "execution_count": 22,
   "metadata": {},
   "outputs": [],
   "source": [
    "# Create test/train split\n",
    "split = flights_hex[\"Year\"].runif()\n",
    "train = flights_hex[split <= 0.75]\n",
    "valid = flights_hex[split > 0.75]"
   ]
  },
  {
   "cell_type": "code",
   "execution_count": 23,
   "metadata": {},
   "outputs": [
    {
     "name": "stdout",
     "output_type": "stream",
     "text": [
      "glm Model Build progress: |███████████████████████████████████████████████| 100%\n",
      "gbm Model Build progress: |███████████████████████████████████████████████| 100%\n"
     ]
    }
   ],
   "source": [
    "\n",
    "# GLM - Predict Delays\n",
    "arr_delay_glm = H2OGeneralizedLinearEstimator(family=\"binomial\",\n",
    "                                              standardize=True, \n",
    "                                              alpha = 0.5, \n",
    "                                              lambda_search = True)\n",
    "arr_delay_glm.train(x               =myX,\n",
    "                    y               =myY,\n",
    "                    training_frame  =train,\n",
    "                    validation_frame=valid)\n",
    "\n",
    "# GBM\n",
    "arr_delay_gbm = H2OGradientBoostingEstimator(distribution   =\"bernoulli\",\n",
    "                                             ntrees         =50)\n",
    "\n",
    "arr_delay_gbm.train(x               =myX,\n",
    "                    y               =myY,\n",
    "                    training_frame  =train,\n",
    "                    validation_frame=valid)\n"
   ]
  },
  {
   "cell_type": "code",
   "execution_count": 26,
   "metadata": {},
   "outputs": [
    {
     "name": "stdout",
     "output_type": "stream",
     "text": [
      "GLM AUC TRAIN= 0.7226751598934201 , AUC Valid= 0.7216972408366638\n",
      "GBM AUC TRAIN= 0.8075764225889316 , AUC Valid= 0.799253052289599\n"
     ]
    }
   ],
   "source": [
    "print (\"GLM AUC TRAIN=\", arr_delay_glm.auc(train = True),\", AUC Valid=\",arr_delay_glm.auc(valid = True))\n",
    "print (\"GBM AUC TRAIN=\", arr_delay_gbm.auc(train = True),\", AUC Valid=\",arr_delay_gbm.auc(valid = True))"
   ]
  },
  {
   "cell_type": "code",
   "execution_count": 27,
   "metadata": {},
   "outputs": [],
   "source": [
    "## Merge with weather data\n",
    "merged_data = flights_hex.merge(weather_hex)"
   ]
  },
  {
   "cell_type": "code",
   "execution_count": 28,
   "metadata": {},
   "outputs": [],
   "source": [
    "# Create test/train split\n",
    "split_weather = merged_data[\"Year\"].runif()\n",
    "train_weather = merged_data[split <= 0.75]\n",
    "valid_weather = merged_data[split > 0.75]"
   ]
  },
  {
   "cell_type": "code",
   "execution_count": 29,
   "metadata": {},
   "outputs": [],
   "source": [
    "# Set predictor and response variables\n",
    "myY = \"IsArrDelayed\"\n",
    "myX = [\"Year\", \"Month\", \"DayofMonth\", \"DayOfWeek\", \"UniqueCarrier\", \"Origin\", \"TravelTime\"] + weather_hex.columns"
   ]
  },
  {
   "cell_type": "code",
   "execution_count": 30,
   "metadata": {},
   "outputs": [
    {
     "name": "stdout",
     "output_type": "stream",
     "text": [
      "glm Model Build progress: |███████████████████████████████████████████████| 100%\n",
      "gbm Model Build progress: |███████████████████████████████████████████████| 100%\n"
     ]
    }
   ],
   "source": [
    "# GLM - Predict Delays\n",
    "arr_delay_weather_glm = H2OGeneralizedLinearEstimator(family=\"binomial\",\n",
    "                                                      standardize=True, \n",
    "                                                      alpha = 0.5, \n",
    "                                                      lambda_search = True)\n",
    "arr_delay_weather_glm.train(x               =myX,\n",
    "                            y               =myY,\n",
    "                            training_frame  =train_weather,\n",
    "                            validation_frame=valid_weather)\n",
    "\n",
    "# GBM\n",
    "arr_delay_weather_gbm = H2OGradientBoostingEstimator(distribution   =\"bernoulli\",\n",
    "                                                     ntrees         =50)\n",
    "\n",
    "arr_delay_weather_gbm.train(x               =myX,\n",
    "                            y               =myY,\n",
    "                            training_frame  =train_weather,\n",
    "                            validation_frame=valid_weather)\n",
    "\n"
   ]
  },
  {
   "cell_type": "code",
   "execution_count": 32,
   "metadata": {},
   "outputs": [
    {
     "name": "stdout",
     "output_type": "stream",
     "text": [
      "GLM AUC TRAIN= 0.7925689299635545 , AUC Valid= 0.7951407328417556\n",
      "GBM AUC TRAIN= 0.8601698365508489 , AUC Valid= 0.8496093316052871\n"
     ]
    }
   ],
   "source": [
    "print (\"GLM AUC TRAIN=\", arr_delay_weather_glm.auc(train = True),\", AUC Valid=\",arr_delay_weather_glm.auc(valid = True))\n",
    "print (\"GBM AUC TRAIN=\", arr_delay_weather_gbm.auc(train = True),\", AUC Valid=\",arr_delay_weather_gbm.auc(valid = True))"
   ]
  }
 ],
 "metadata": {
  "kernelspec": {
   "display_name": "Python 3",
   "language": "python",
   "name": "python3"
  },
  "language_info": {
   "codemirror_mode": {
    "name": "ipython",
    "version": 3
   },
   "file_extension": ".py",
   "mimetype": "text/x-python",
   "name": "python",
   "nbconvert_exporter": "python",
   "pygments_lexer": "ipython3",
   "version": "3.6.6"
  }
 },
 "nbformat": 4,
 "nbformat_minor": 1
}
